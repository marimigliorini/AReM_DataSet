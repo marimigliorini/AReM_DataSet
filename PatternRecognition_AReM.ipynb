{
 "cells": [
  {
   "cell_type": "markdown",
   "metadata": {
    "colab_type": "text",
    "id": "4AnkGDOz22qv"
   },
   "source": [
    "## Trabalho Proposto\n",
    "\n",
    "Para o banco de dados Activity Recognition system based on Multisensor data fusion (AReM) Data Set do UCI repository, projete o sistema de reconhecimento de padrões, utilizando como algoritmos de classificação: redes MLP, redes RBF e SVM não-linear.\n",
    "\n",
    "Compare os resultados obtidos pelos diferentes classificadores.\n",
    "\n",
    "### Um pouco sobre o banco de dados\n",
    "\n",
    "O dataset utilizado foi obtido utilizando medições feitas por três sensores acoplados em diferentes regiões do corpo enquanto a pessoa realizava movimentos específicos. O objetivo é desenvolver um sistema capaz de classificar o tipo de movimento feito a partir dos dados que foram gerados."
   ]
  },
  {
   "cell_type": "markdown",
   "metadata": {
    "colab_type": "text",
    "id": "XPe_rCe2jbvP"
   },
   "source": [
    "## Importando bibliotecas utilizadas"
   ]
  },
  {
   "cell_type": "code",
   "execution_count": 0,
   "metadata": {
    "colab": {},
    "colab_type": "code",
    "id": "C0PG7Up8hAXv"
   },
   "outputs": [],
   "source": [
    "import numpy as np\n",
    "import matplotlib.pyplot as plt\n",
    "import glob\n",
    "import pandas as pd\n",
    "import seaborn as sns\n",
    "from sklearn.preprocessing import StandardScaler\n",
    "from sklearn.neural_network import MLPClassifier\n",
    "from sklearn.model_selection import train_test_split\n",
    "from sklearn.metrics import accuracy_score\n",
    "from sklearn.metrics import confusion_matrix\n",
    "from sklearn.svm import SVC\n",
    "%matplotlib inline"
   ]
  },
  {
   "cell_type": "markdown",
   "metadata": {
    "colab_type": "text",
    "id": "C6989_D9hAYt"
   },
   "source": [
    "## Inicialização e normalização dos dados\n",
    "\n",
    "Um dataframe foi criado concatenando os dados de cada dataset disponibilizado e adicionando uma coluna de labels com valores de 1 a 7 identificando cada uma das classes.\n",
    "\n",
    "Mapeamento das classes:\n",
    "\n",
    "| Classe    | Label |\n",
    "|-----------|-------|\n",
    "| Bending 1 |   1   |\n",
    "| Bending 2 |   2   |\n",
    "| Cycling   |   3   |\n",
    "| Lying     |   4   |\n",
    "| Sitting   |   5   |\n",
    "| Standing  |   6   |\n",
    "| Walking   |   7   |"
   ]
  },
  {
   "cell_type": "code",
   "execution_count": 0,
   "metadata": {
    "colab": {
     "base_uri": "https://localhost:8080/",
     "height": 206
    },
    "colab_type": "code",
    "executionInfo": {
     "elapsed": 1007,
     "status": "ok",
     "timestamp": 1575044424552,
     "user": {
      "displayName": "Mariana Migliorini",
      "photoUrl": "",
      "userId": "08049581892130160167"
     },
     "user_tz": 180
    },
    "id": "QsCGKBw3hkPd",
    "outputId": "750f2685-8b68-4fda-a3ad-4717ca795b22"
   },
   "outputs": [
    {
     "data": {
      "text/html": [
       "<div>\n",
       "<style scoped>\n",
       "    .dataframe tbody tr th:only-of-type {\n",
       "        vertical-align: middle;\n",
       "    }\n",
       "\n",
       "    .dataframe tbody tr th {\n",
       "        vertical-align: top;\n",
       "    }\n",
       "\n",
       "    .dataframe thead th {\n",
       "        text-align: right;\n",
       "    }\n",
       "</style>\n",
       "<table border=\"1\" class=\"dataframe\">\n",
       "  <thead>\n",
       "    <tr style=\"text-align: right;\">\n",
       "      <th></th>\n",
       "      <th>avg_rss12</th>\n",
       "      <th>var_rss12</th>\n",
       "      <th>avg_rss13</th>\n",
       "      <th>var_rss13</th>\n",
       "      <th>avg_rss23</th>\n",
       "      <th>var_rss23</th>\n",
       "      <th>label</th>\n",
       "    </tr>\n",
       "  </thead>\n",
       "  <tbody>\n",
       "    <tr>\n",
       "      <th>0</th>\n",
       "      <td>39.25</td>\n",
       "      <td>0.43</td>\n",
       "      <td>22.75</td>\n",
       "      <td>0.43</td>\n",
       "      <td>33.75</td>\n",
       "      <td>1.3</td>\n",
       "      <td>1.0</td>\n",
       "    </tr>\n",
       "    <tr>\n",
       "      <th>1</th>\n",
       "      <td>39.25</td>\n",
       "      <td>0.43</td>\n",
       "      <td>23.00</td>\n",
       "      <td>0.00</td>\n",
       "      <td>33.00</td>\n",
       "      <td>0.0</td>\n",
       "      <td>1.0</td>\n",
       "    </tr>\n",
       "    <tr>\n",
       "      <th>2</th>\n",
       "      <td>39.25</td>\n",
       "      <td>0.43</td>\n",
       "      <td>23.25</td>\n",
       "      <td>0.43</td>\n",
       "      <td>33.00</td>\n",
       "      <td>0.0</td>\n",
       "      <td>1.0</td>\n",
       "    </tr>\n",
       "    <tr>\n",
       "      <th>3</th>\n",
       "      <td>39.50</td>\n",
       "      <td>0.50</td>\n",
       "      <td>23.00</td>\n",
       "      <td>0.71</td>\n",
       "      <td>33.00</td>\n",
       "      <td>0.0</td>\n",
       "      <td>1.0</td>\n",
       "    </tr>\n",
       "    <tr>\n",
       "      <th>4</th>\n",
       "      <td>39.50</td>\n",
       "      <td>0.50</td>\n",
       "      <td>24.00</td>\n",
       "      <td>0.00</td>\n",
       "      <td>33.00</td>\n",
       "      <td>0.0</td>\n",
       "      <td>1.0</td>\n",
       "    </tr>\n",
       "  </tbody>\n",
       "</table>\n",
       "</div>"
      ],
      "text/plain": [
       "   avg_rss12  var_rss12  avg_rss13  var_rss13  avg_rss23  var_rss23  label\n",
       "0      39.25       0.43      22.75       0.43      33.75        1.3    1.0\n",
       "1      39.25       0.43      23.00       0.00      33.00        0.0    1.0\n",
       "2      39.25       0.43      23.25       0.43      33.00        0.0    1.0\n",
       "3      39.50       0.50      23.00       0.71      33.00        0.0    1.0\n",
       "4      39.50       0.50      24.00       0.00      33.00        0.0    1.0"
      ]
     },
     "execution_count": 12,
     "metadata": {
      "tags": []
     },
     "output_type": "execute_result"
    }
   ],
   "source": [
    "k = 0\n",
    "df = pd.DataFrame()\n",
    "folders = ['bending1','bending2','cycling','lying','sitting','standing','walking']\n",
    "for i in folders:\n",
    "    k = k+1\n",
    "    a = glob.glob('./' + i + '/*.csv')\n",
    "    a.sort()\n",
    "    class_df = pd.DataFrame()\n",
    "    for j in a:\n",
    "        df_c = pd.read_csv(j, names=['time','avg_rss12', 'var_rss12', 'avg_rss13', 'var_rss13','avg_rss23', 'var_rss23'])\n",
    "        class_df = class_df.append(df_c)\n",
    "    class_df = class_df.drop([0,1,2,3,4])\n",
    "    class_df = class_df.drop(['time'], axis=1)\n",
    "    class_df = class_df.astype(float)\n",
    "    class_df.insert(6,'label',k*np.ones(len(class_df.index)))    \n",
    "    df = df.append(class_df)\n",
    "\n",
    "df.head()"
   ]
  },
  {
   "cell_type": "markdown",
   "metadata": {
    "colab_type": "text",
    "id": "Z2ddee3RhAZ3"
   },
   "source": [
    "## Histograma de cada parâmetro\n",
    "\n",
    "Primeiramente, o histograma de cada um dos parâmetros foi gerado para que seja possível observar seus comportamentos. Observa-se que os parâmetros \"var_rss12\" e \"var_rss13\" possuem um formato semelhante, porém ainda não é possível inferir se um deles pode ser descartado por conter um mesmo tipo de informação."
   ]
  },
  {
   "cell_type": "code",
   "execution_count": 0,
   "metadata": {
    "colab": {
     "base_uri": "https://localhost:8080/",
     "height": 499
    },
    "colab_type": "code",
    "executionInfo": {
     "elapsed": 2272,
     "status": "ok",
     "timestamp": 1575043973804,
     "user": {
      "displayName": "Mariana Migliorini",
      "photoUrl": "",
      "userId": "08049581892130160167"
     },
     "user_tz": 180
    },
    "id": "096dBsmPhAZ7",
    "outputId": "a06ff86c-f886-4626-ad27-ee8fea191287"
   },
   "outputs": [
    {
     "data": {
      "image/png": "[encoded data removed]",
      "text/plain": [
       "<Figure size 1080x576 with 6 Axes>"
      ]
     },
     "metadata": {
      "tags": []
     },
     "output_type": "display_data"
    }
   ],
   "source": [
    "col = df.columns\n",
    "fig = plt.figure(figsize=(15,8))\n",
    "for i in range(1,7):    \n",
    "    fig.add_subplot(2,3,i)\n",
    "    sns.distplot(df[col[i-1]], kde=False) "
   ]
  },
  {
   "cell_type": "markdown",
   "metadata": {
    "colab_type": "text",
    "id": "LIX2-sp6hAaL"
   },
   "source": [
    "## Matriz de correlação\n",
    "\n",
    "Uma segunda análise foi feita em relação aos valores de correlação dos parâmetros. Nota-se que os maiores valores obtidos estão em torno de $\\pm 0,55$, o que significa que alguns parâmetros possuem uma correlação moderada. Apenas analisando isso não é possível concluir que dois parâmetros possuem uma mesma informação. Dessa maneira, nenhum deles é descartado e a dimensão do problema ainda não pode ser diminuída."
   ]
  },
  {
   "cell_type": "code",
   "execution_count": 0,
   "metadata": {
    "colab": {
     "base_uri": "https://localhost:8080/",
     "height": 190
    },
    "colab_type": "code",
    "executionInfo": {
     "elapsed": 1026,
     "status": "ok",
     "timestamp": 1575043981129,
     "user": {
      "displayName": "Mariana Migliorini",
      "photoUrl": "",
      "userId": "08049581892130160167"
     },
     "user_tz": 180
    },
    "id": "oiBV_XoBhAaN",
    "outputId": "fb51e660-9b58-4ccc-89d4-a2d7aea2f69e",
    "scrolled": true
   },
   "outputs": [
    {
     "data": {
      "text/html": [
       "<style  type=\"text/css\" >\n",
       "    #T_1d23673c_12c3_11ea_b987_0242ac1c0002row0_col0 {\n",
       "            background-color:  #b40426;\n",
       "            color:  #f1f1f1;\n",
       "        }    #T_1d23673c_12c3_11ea_b987_0242ac1c0002row0_col1 {\n",
       "            background-color:  #3b4cc0;\n",
       "            color:  #f1f1f1;\n",
       "        }    #T_1d23673c_12c3_11ea_b987_0242ac1c0002row0_col2 {\n",
       "            background-color:  #8fb1fe;\n",
       "            color:  #000000;\n",
       "        }    #T_1d23673c_12c3_11ea_b987_0242ac1c0002row0_col3 {\n",
       "            background-color:  #4f69d9;\n",
       "            color:  #000000;\n",
       "        }    #T_1d23673c_12c3_11ea_b987_0242ac1c0002row0_col4 {\n",
       "            background-color:  #96b7ff;\n",
       "            color:  #000000;\n",
       "        }    #T_1d23673c_12c3_11ea_b987_0242ac1c0002row0_col5 {\n",
       "            background-color:  #506bda;\n",
       "            color:  #000000;\n",
       "        }    #T_1d23673c_12c3_11ea_b987_0242ac1c0002row0_col6 {\n",
       "            background-color:  #a5c3fe;\n",
       "            color:  #000000;\n",
       "        }    #T_1d23673c_12c3_11ea_b987_0242ac1c0002row1_col0 {\n",
       "            background-color:  #3b4cc0;\n",
       "            color:  #f1f1f1;\n",
       "        }    #T_1d23673c_12c3_11ea_b987_0242ac1c0002row1_col1 {\n",
       "            background-color:  #b40426;\n",
       "            color:  #f1f1f1;\n",
       "        }    #T_1d23673c_12c3_11ea_b987_0242ac1c0002row1_col2 {\n",
       "            background-color:  #bcd2f7;\n",
       "            color:  #000000;\n",
       "        }    #T_1d23673c_12c3_11ea_b987_0242ac1c0002row1_col3 {\n",
       "            background-color:  #f7b599;\n",
       "            color:  #000000;\n",
       "        }    #T_1d23673c_12c3_11ea_b987_0242ac1c0002row1_col4 {\n",
       "            background-color:  #a2c1ff;\n",
       "            color:  #000000;\n",
       "        }    #T_1d23673c_12c3_11ea_b987_0242ac1c0002row1_col5 {\n",
       "            background-color:  #f7b79b;\n",
       "            color:  #000000;\n",
       "        }    #T_1d23673c_12c3_11ea_b987_0242ac1c0002row1_col6 {\n",
       "            background-color:  #dadce0;\n",
       "            color:  #000000;\n",
       "        }    #T_1d23673c_12c3_11ea_b987_0242ac1c0002row2_col0 {\n",
       "            background-color:  #485fd1;\n",
       "            color:  #f1f1f1;\n",
       "        }    #T_1d23673c_12c3_11ea_b987_0242ac1c0002row2_col1 {\n",
       "            background-color:  #81a4fb;\n",
       "            color:  #000000;\n",
       "        }    #T_1d23673c_12c3_11ea_b987_0242ac1c0002row2_col2 {\n",
       "            background-color:  #b40426;\n",
       "            color:  #f1f1f1;\n",
       "        }    #T_1d23673c_12c3_11ea_b987_0242ac1c0002row2_col3 {\n",
       "            background-color:  #6180e9;\n",
       "            color:  #000000;\n",
       "        }    #T_1d23673c_12c3_11ea_b987_0242ac1c0002row2_col4 {\n",
       "            background-color:  #d9dce1;\n",
       "            color:  #000000;\n",
       "        }    #T_1d23673c_12c3_11ea_b987_0242ac1c0002row2_col5 {\n",
       "            background-color:  #89acfd;\n",
       "            color:  #000000;\n",
       "        }    #T_1d23673c_12c3_11ea_b987_0242ac1c0002row2_col6 {\n",
       "            background-color:  #3b4cc0;\n",
       "            color:  #f1f1f1;\n",
       "        }    #T_1d23673c_12c3_11ea_b987_0242ac1c0002row3_col0 {\n",
       "            background-color:  #3b4cc0;\n",
       "            color:  #f1f1f1;\n",
       "        }    #T_1d23673c_12c3_11ea_b987_0242ac1c0002row3_col1 {\n",
       "            background-color:  #f6bea4;\n",
       "            color:  #000000;\n",
       "        }    #T_1d23673c_12c3_11ea_b987_0242ac1c0002row3_col2 {\n",
       "            background-color:  #92b4fe;\n",
       "            color:  #000000;\n",
       "        }    #T_1d23673c_12c3_11ea_b987_0242ac1c0002row3_col3 {\n",
       "            background-color:  #b40426;\n",
       "            color:  #f1f1f1;\n",
       "        }    #T_1d23673c_12c3_11ea_b987_0242ac1c0002row3_col4 {\n",
       "            background-color:  #9abbff;\n",
       "            color:  #000000;\n",
       "        }    #T_1d23673c_12c3_11ea_b987_0242ac1c0002row3_col5 {\n",
       "            background-color:  #f5c1a9;\n",
       "            color:  #000000;\n",
       "        }    #T_1d23673c_12c3_11ea_b987_0242ac1c0002row3_col6 {\n",
       "            background-color:  #adc9fd;\n",
       "            color:  #000000;\n",
       "        }    #T_1d23673c_12c3_11ea_b987_0242ac1c0002row4_col0 {\n",
       "            background-color:  #96b7ff;\n",
       "            color:  #000000;\n",
       "        }    #T_1d23673c_12c3_11ea_b987_0242ac1c0002row4_col1 {\n",
       "            background-color:  #a3c2fe;\n",
       "            color:  #000000;\n",
       "        }    #T_1d23673c_12c3_11ea_b987_0242ac1c0002row4_col2 {\n",
       "            background-color:  #f2cbb7;\n",
       "            color:  #000000;\n",
       "        }    #T_1d23673c_12c3_11ea_b987_0242ac1c0002row4_col3 {\n",
       "            background-color:  #abc8fd;\n",
       "            color:  #000000;\n",
       "        }    #T_1d23673c_12c3_11ea_b987_0242ac1c0002row4_col4 {\n",
       "            background-color:  #b40426;\n",
       "            color:  #f1f1f1;\n",
       "        }    #T_1d23673c_12c3_11ea_b987_0242ac1c0002row4_col5 {\n",
       "            background-color:  #89acfd;\n",
       "            color:  #000000;\n",
       "        }    #T_1d23673c_12c3_11ea_b987_0242ac1c0002row4_col6 {\n",
       "            background-color:  #3b4cc0;\n",
       "            color:  #f1f1f1;\n",
       "        }    #T_1d23673c_12c3_11ea_b987_0242ac1c0002row5_col0 {\n",
       "            background-color:  #3b4cc0;\n",
       "            color:  #f1f1f1;\n",
       "        }    #T_1d23673c_12c3_11ea_b987_0242ac1c0002row5_col1 {\n",
       "            background-color:  #f6bfa6;\n",
       "            color:  #000000;\n",
       "        }    #T_1d23673c_12c3_11ea_b987_0242ac1c0002row5_col2 {\n",
       "            background-color:  #b3cdfb;\n",
       "            color:  #000000;\n",
       "        }    #T_1d23673c_12c3_11ea_b987_0242ac1c0002row5_col3 {\n",
       "            background-color:  #f5c1a9;\n",
       "            color:  #000000;\n",
       "        }    #T_1d23673c_12c3_11ea_b987_0242ac1c0002row5_col4 {\n",
       "            background-color:  #7396f5;\n",
       "            color:  #000000;\n",
       "        }    #T_1d23673c_12c3_11ea_b987_0242ac1c0002row5_col5 {\n",
       "            background-color:  #b40426;\n",
       "            color:  #f1f1f1;\n",
       "        }    #T_1d23673c_12c3_11ea_b987_0242ac1c0002row5_col6 {\n",
       "            background-color:  #bbd1f8;\n",
       "            color:  #000000;\n",
       "        }    #T_1d23673c_12c3_11ea_b987_0242ac1c0002row6_col0 {\n",
       "            background-color:  #a5c3fe;\n",
       "            color:  #000000;\n",
       "        }    #T_1d23673c_12c3_11ea_b987_0242ac1c0002row6_col1 {\n",
       "            background-color:  #dadce0;\n",
       "            color:  #000000;\n",
       "        }    #T_1d23673c_12c3_11ea_b987_0242ac1c0002row6_col2 {\n",
       "            background-color:  #82a6fb;\n",
       "            color:  #000000;\n",
       "        }    #T_1d23673c_12c3_11ea_b987_0242ac1c0002row6_col3 {\n",
       "            background-color:  #bcd2f7;\n",
       "            color:  #000000;\n",
       "        }    #T_1d23673c_12c3_11ea_b987_0242ac1c0002row6_col4 {\n",
       "            background-color:  #3b4cc0;\n",
       "            color:  #f1f1f1;\n",
       "        }    #T_1d23673c_12c3_11ea_b987_0242ac1c0002row6_col5 {\n",
       "            background-color:  #c9d7f0;\n",
       "            color:  #000000;\n",
       "        }    #T_1d23673c_12c3_11ea_b987_0242ac1c0002row6_col6 {\n",
       "            background-color:  #b40426;\n",
       "            color:  #f1f1f1;\n",
       "        }</style><table id=\"T_1d23673c_12c3_11ea_b987_0242ac1c0002\" ><thead>    <tr>        <th class=\"blank level0\" ></th>        <th class=\"col_heading level0 col0\" >avg_rss12</th>        <th class=\"col_heading level0 col1\" >var_rss12</th>        <th class=\"col_heading level0 col2\" >avg_rss13</th>        <th class=\"col_heading level0 col3\" >var_rss13</th>        <th class=\"col_heading level0 col4\" >avg_rss23</th>        <th class=\"col_heading level0 col5\" >var_rss23</th>        <th class=\"col_heading level0 col6\" >label</th>    </tr></thead><tbody>\n",
       "                <tr>\n",
       "                        <th id=\"T_1d23673c_12c3_11ea_b987_0242ac1c0002level0_row0\" class=\"row_heading level0 row0\" >avg_rss12</th>\n",
       "                        <td id=\"T_1d23673c_12c3_11ea_b987_0242ac1c0002row0_col0\" class=\"data row0 col0\" >1.0</td>\n",
       "                        <td id=\"T_1d23673c_12c3_11ea_b987_0242ac1c0002row0_col1\" class=\"data row0 col1\" >-0.39</td>\n",
       "                        <td id=\"T_1d23673c_12c3_11ea_b987_0242ac1c0002row0_col2\" class=\"data row0 col2\" >-0.033</td>\n",
       "                        <td id=\"T_1d23673c_12c3_11ea_b987_0242ac1c0002row0_col3\" class=\"data row0 col3\" >-0.29</td>\n",
       "                        <td id=\"T_1d23673c_12c3_11ea_b987_0242ac1c0002row0_col4\" class=\"data row0 col4\" >-0.0041</td>\n",
       "                        <td id=\"T_1d23673c_12c3_11ea_b987_0242ac1c0002row0_col5\" class=\"data row0 col5\" >-0.29</td>\n",
       "                        <td id=\"T_1d23673c_12c3_11ea_b987_0242ac1c0002row0_col6\" class=\"data row0 col6\" >0.056</td>\n",
       "            </tr>\n",
       "            <tr>\n",
       "                        <th id=\"T_1d23673c_12c3_11ea_b987_0242ac1c0002level0_row1\" class=\"row_heading level0 row1\" >var_rss12</th>\n",
       "                        <td id=\"T_1d23673c_12c3_11ea_b987_0242ac1c0002row1_col0\" class=\"data row1 col0\" >-0.39</td>\n",
       "                        <td id=\"T_1d23673c_12c3_11ea_b987_0242ac1c0002row1_col1\" class=\"data row1 col1\" >1.0</td>\n",
       "                        <td id=\"T_1d23673c_12c3_11ea_b987_0242ac1c0002row1_col2\" class=\"data row1 col2\" >0.15</td>\n",
       "                        <td id=\"T_1d23673c_12c3_11ea_b987_0242ac1c0002row1_col3\" class=\"data row1 col3\" >0.55</td>\n",
       "                        <td id=\"T_1d23673c_12c3_11ea_b987_0242ac1c0002row1_col4\" class=\"data row1 col4\" >0.046</td>\n",
       "                        <td id=\"T_1d23673c_12c3_11ea_b987_0242ac1c0002row1_col5\" class=\"data row1 col5\" >0.54</td>\n",
       "                        <td id=\"T_1d23673c_12c3_11ea_b987_0242ac1c0002row1_col6\" class=\"data row1 col6\" >0.29</td>\n",
       "            </tr>\n",
       "            <tr>\n",
       "                        <th id=\"T_1d23673c_12c3_11ea_b987_0242ac1c0002level0_row2\" class=\"row_heading level0 row2\" >avg_rss13</th>\n",
       "                        <td id=\"T_1d23673c_12c3_11ea_b987_0242ac1c0002row2_col0\" class=\"data row2 col0\" >-0.033</td>\n",
       "                        <td id=\"T_1d23673c_12c3_11ea_b987_0242ac1c0002row2_col1\" class=\"data row2 col1\" >0.15</td>\n",
       "                        <td id=\"T_1d23673c_12c3_11ea_b987_0242ac1c0002row2_col2\" class=\"data row2 col2\" >1.0</td>\n",
       "                        <td id=\"T_1d23673c_12c3_11ea_b987_0242ac1c0002row2_col3\" class=\"data row2 col3\" >0.05</td>\n",
       "                        <td id=\"T_1d23673c_12c3_11ea_b987_0242ac1c0002row2_col4\" class=\"data row2 col4\" >0.44</td>\n",
       "                        <td id=\"T_1d23673c_12c3_11ea_b987_0242ac1c0002row2_col5\" class=\"data row2 col5\" >0.18</td>\n",
       "                        <td id=\"T_1d23673c_12c3_11ea_b987_0242ac1c0002row2_col6\" class=\"data row2 col6\" >-0.084</td>\n",
       "            </tr>\n",
       "            <tr>\n",
       "                        <th id=\"T_1d23673c_12c3_11ea_b987_0242ac1c0002level0_row3\" class=\"row_heading level0 row3\" >var_rss13</th>\n",
       "                        <td id=\"T_1d23673c_12c3_11ea_b987_0242ac1c0002row3_col0\" class=\"data row3 col0\" >-0.29</td>\n",
       "                        <td id=\"T_1d23673c_12c3_11ea_b987_0242ac1c0002row3_col1\" class=\"data row3 col1\" >0.55</td>\n",
       "                        <td id=\"T_1d23673c_12c3_11ea_b987_0242ac1c0002row3_col2\" class=\"data row3 col2\" >0.05</td>\n",
       "                        <td id=\"T_1d23673c_12c3_11ea_b987_0242ac1c0002row3_col3\" class=\"data row3 col3\" >1.0</td>\n",
       "                        <td id=\"T_1d23673c_12c3_11ea_b987_0242ac1c0002row3_col4\" class=\"data row3 col4\" >0.079</td>\n",
       "                        <td id=\"T_1d23673c_12c3_11ea_b987_0242ac1c0002row3_col5\" class=\"data row3 col5\" >0.53</td>\n",
       "                        <td id=\"T_1d23673c_12c3_11ea_b987_0242ac1c0002row3_col6\" class=\"data row3 col6\" >0.15</td>\n",
       "            </tr>\n",
       "            <tr>\n",
       "                        <th id=\"T_1d23673c_12c3_11ea_b987_0242ac1c0002level0_row4\" class=\"row_heading level0 row4\" >avg_rss23</th>\n",
       "                        <td id=\"T_1d23673c_12c3_11ea_b987_0242ac1c0002row4_col0\" class=\"data row4 col0\" >-0.0041</td>\n",
       "                        <td id=\"T_1d23673c_12c3_11ea_b987_0242ac1c0002row4_col1\" class=\"data row4 col1\" >0.046</td>\n",
       "                        <td id=\"T_1d23673c_12c3_11ea_b987_0242ac1c0002row4_col2\" class=\"data row4 col2\" >0.44</td>\n",
       "                        <td id=\"T_1d23673c_12c3_11ea_b987_0242ac1c0002row4_col3\" class=\"data row4 col3\" >0.079</td>\n",
       "                        <td id=\"T_1d23673c_12c3_11ea_b987_0242ac1c0002row4_col4\" class=\"data row4 col4\" >1.0</td>\n",
       "                        <td id=\"T_1d23673c_12c3_11ea_b987_0242ac1c0002row4_col5\" class=\"data row4 col5\" >-0.055</td>\n",
       "                        <td id=\"T_1d23673c_12c3_11ea_b987_0242ac1c0002row4_col6\" class=\"data row4 col6\" >-0.39</td>\n",
       "            </tr>\n",
       "            <tr>\n",
       "                        <th id=\"T_1d23673c_12c3_11ea_b987_0242ac1c0002level0_row5\" class=\"row_heading level0 row5\" >var_rss23</th>\n",
       "                        <td id=\"T_1d23673c_12c3_11ea_b987_0242ac1c0002row5_col0\" class=\"data row5 col0\" >-0.29</td>\n",
       "                        <td id=\"T_1d23673c_12c3_11ea_b987_0242ac1c0002row5_col1\" class=\"data row5 col1\" >0.54</td>\n",
       "                        <td id=\"T_1d23673c_12c3_11ea_b987_0242ac1c0002row5_col2\" class=\"data row5 col2\" >0.18</td>\n",
       "                        <td id=\"T_1d23673c_12c3_11ea_b987_0242ac1c0002row5_col3\" class=\"data row5 col3\" >0.53</td>\n",
       "                        <td id=\"T_1d23673c_12c3_11ea_b987_0242ac1c0002row5_col4\" class=\"data row5 col4\" >-0.055</td>\n",
       "                        <td id=\"T_1d23673c_12c3_11ea_b987_0242ac1c0002row5_col5\" class=\"data row5 col5\" >1.0</td>\n",
       "                        <td id=\"T_1d23673c_12c3_11ea_b987_0242ac1c0002row5_col6\" class=\"data row5 col6\" >0.21</td>\n",
       "            </tr>\n",
       "            <tr>\n",
       "                        <th id=\"T_1d23673c_12c3_11ea_b987_0242ac1c0002level0_row6\" class=\"row_heading level0 row6\" >label</th>\n",
       "                        <td id=\"T_1d23673c_12c3_11ea_b987_0242ac1c0002row6_col0\" class=\"data row6 col0\" >0.056</td>\n",
       "                        <td id=\"T_1d23673c_12c3_11ea_b987_0242ac1c0002row6_col1\" class=\"data row6 col1\" >0.29</td>\n",
       "                        <td id=\"T_1d23673c_12c3_11ea_b987_0242ac1c0002row6_col2\" class=\"data row6 col2\" >-0.084</td>\n",
       "                        <td id=\"T_1d23673c_12c3_11ea_b987_0242ac1c0002row6_col3\" class=\"data row6 col3\" >0.15</td>\n",
       "                        <td id=\"T_1d23673c_12c3_11ea_b987_0242ac1c0002row6_col4\" class=\"data row6 col4\" >-0.39</td>\n",
       "                        <td id=\"T_1d23673c_12c3_11ea_b987_0242ac1c0002row6_col5\" class=\"data row6 col5\" >0.21</td>\n",
       "                        <td id=\"T_1d23673c_12c3_11ea_b987_0242ac1c0002row6_col6\" class=\"data row6 col6\" >1.0</td>\n",
       "            </tr>\n",
       "    </tbody></table>"
      ],
      "text/plain": [
       "<pandas.io.formats.style.Styler at 0x7f68957e8f98>"
      ]
     },
     "execution_count": 5,
     "metadata": {
      "tags": []
     },
     "output_type": "execute_result"
    }
   ],
   "source": [
    "df.corr().style.format(\"{:.2}\").background_gradient(cmap=plt.get_cmap('coolwarm'),axis=1)"
   ]
  },
  {
   "cell_type": "markdown",
   "metadata": {
    "colab_type": "text",
    "id": "r0wxN9W7hAaf"
   },
   "source": [
    "## Verificando a contribuição de cada parâmetro\n",
    "\n",
    "Primeiramente os dados foram divididos utilizando a relação 70-30 entre os conjuntos de treino e teste, respectivamente. \n",
    "\n",
    "Utilizando uma rede MPL simples de 1 camada e 6 neurônios foram feitas 2 avaliações diferentes:\n",
    "\n",
    "1.) Um parâmetro foi substituído pelo seu valor médio em cada iteração;\n",
    "\n",
    "2.) Um parâmetro foi desconsiderado em cada iteração.\n",
    "\n",
    "No primeiro ciclo todos os parâmetros foram utilizados e em seguida cada um deles foi sendo modificado, sendo explicitado no label do eixo X qual variável foi utilizada naquela iteração."
   ]
  },
  {
   "cell_type": "code",
   "execution_count": 0,
   "metadata": {
    "colab": {},
    "colab_type": "code",
    "id": "SdNkMwuohAah"
   },
   "outputs": [],
   "source": [
    "Y = np.array(df['label'])  \n",
    "X = df.drop(['label'], axis=1)\n",
    "xTrain, xTest, yTrain, yTest = train_test_split(X, Y, train_size = 0.7, random_state = 0)  #70% treino e 30% teste"
   ]
  },
  {
   "cell_type": "code",
   "execution_count": 0,
   "metadata": {
    "colab": {},
    "colab_type": "code",
    "id": "l6v13inZhAan"
   },
   "outputs": [],
   "source": [
    "clf = MLPClassifier(solver='adam', alpha=1e-5, hidden_layer_sizes=(6), random_state=1, max_iter=2000)\n",
    "clf.fit(xTrain, yTrain)\n",
    "efc = clf.score(xTest,yTest)\n",
    "\n",
    "xTrain_m = xTrain.copy()\n",
    "efc_mean = np.array([])\n",
    "\n",
    "for col in xTrain_m.columns:\n",
    "    xTrain_m[col] = xTrain_m[col].mean()\n",
    "    clf = MLPClassifier(solver='adam', alpha=1e-5, hidden_layer_sizes=(6), random_state=1, max_iter=2000)\n",
    "    clf.fit(xTrain_m, yTrain)\n",
    "    efc_mean = np.append(efc_mean, clf.score(xTest,yTest))\n",
    "    xTrain_m = xTrain.copy()\n",
    "    \n",
    "xTrain_d = xTrain.copy()\n",
    "xTest_d  = xTest.copy()\n",
    "efc_drop = np.array([])\n",
    "    \n",
    "for col in xTrain_m.columns:\n",
    "    xTrain_d = xTrain_d.drop([col], axis=1)  \n",
    "    xTest_d  = xTest_d.drop([col], axis=1)\n",
    "    clf = MLPClassifier(solver='adam', alpha=1e-5, hidden_layer_sizes=(6), random_state=1, max_iter=2000)\n",
    "    clf.fit(xTrain_d, yTrain)\n",
    "    efc_drop = np.append(efc_drop, clf.score(xTest_d,yTest))\n",
    "    xTrain_d = xTrain.copy()\n",
    "    xTest_d  = xTest.copy()"
   ]
  },
  {
   "cell_type": "code",
   "execution_count": 0,
   "metadata": {
    "colab": {
     "base_uri": "https://localhost:8080/",
     "height": 518
    },
    "colab_type": "code",
    "executionInfo": {
     "elapsed": 1106,
     "status": "ok",
     "timestamp": 1575044194891,
     "user": {
      "displayName": "Mariana Migliorini",
      "photoUrl": "",
      "userId": "08049581892130160167"
     },
     "user_tz": 180
    },
    "id": "ImbDascEhAas",
    "outputId": "58b2d217-db99-4e66-9862-e1a00f9e4dac"
   },
   "outputs": [
    {
     "data": {
      "text/plain": [
       "Text(0.5, 1.0, 'Acurácia utilizando descarte de parâmetro')"
      ]
     },
     "execution_count": 9,
     "metadata": {
      "tags": []
     },
     "output_type": "execute_result"
    },
    {
     "data": {
      "image/png": "[encoded data removed]",
      "text/plain": [
       "<Figure size 1080x576 with 2 Axes>"
      ]
     },
     "metadata": {
      "tags": []
     },
     "output_type": "display_data"
    }
   ],
   "source": [
    "lb = ['all', 'avg_rss12', 'var_rss12', 'avg_rss13', 'var_rss13', 'avg_rss23', 'var_rss23']\n",
    "fig = plt.figure(figsize=(15,8))\n",
    "fig.add_subplot(1,2,1)\n",
    "plt.plot(lb, np.append(efc, efc_mean), '--o')\n",
    "plt.ylim([0,1])\n",
    "plt.grid()\n",
    "plt.title('Acurácia utilizando média do parâmetro')\n",
    "fig.add_subplot(1,2,2)\n",
    "plt.plot(lb, np.append(efc, efc_drop),'--o')\n",
    "plt.ylim([0,1])\n",
    "plt.grid()\n",
    "plt.title('Acurácia utilizando descarte de parâmetro')"
   ]
  },
  {
   "cell_type": "markdown",
   "metadata": {
    "colab_type": "text",
    "id": "pOgJ-P1cczlA"
   },
   "source": [
    "Não foi observada nenhuma melhora significativa ao descartar ou modificar algum dos parâmetros do dataframe em ambos os gráficos. Logo, foi decidido manter todos eles para a solução do problema de classificação proposto."
   ]
  },
  {
   "cell_type": "markdown",
   "metadata": {
    "colab_type": "text",
    "id": "gWY9UbU4hAaU"
   },
   "source": [
    "## Amplitude de cada classe\n",
    "\n",
    "Para as análises seguintes, é necessário saber a quantidade de dados que cada uma das classes possui de modo a observar se alguma técnica para o balanceamento das mesmas deverá ser empregado. Logo, um gráfico contendo informações das amplitudes foi gerado."
   ]
  },
  {
   "cell_type": "code",
   "execution_count": 0,
   "metadata": {
    "colab": {
     "base_uri": "https://localhost:8080/",
     "height": 338
    },
    "colab_type": "code",
    "executionInfo": {
     "elapsed": 845,
     "status": "ok",
     "timestamp": 1575043996707,
     "user": {
      "displayName": "Mariana Migliorini",
      "photoUrl": "",
      "userId": "08049581892130160167"
     },
     "user_tz": 180
    },
    "id": "s8733YBmhAaW",
    "outputId": "915113c9-99a5-41cc-a03f-efc5090210d6"
   },
   "outputs": [
    {
     "data": {
      "text/plain": [
       "<matplotlib.axes._subplots.AxesSubplot at 0x7f6882a04f28>"
      ]
     },
     "execution_count": 6,
     "metadata": {
      "tags": []
     },
     "output_type": "execute_result"
    },
    {
     "data": {
      "image/png": "[encoded data removed]",
      "text/plain": [
       "<Figure size 720x360 with 1 Axes>"
      ]
     },
     "metadata": {
      "tags": []
     },
     "output_type": "display_data"
    }
   ],
   "source": [
    "amp = np.array([])\n",
    "for i in range(1,8):\n",
    "    amp = np.append(amp, len(df.loc[(df['label'] == i)]))\n",
    "    \n",
    "classes = ['Bending 1','Bending 2','Cycling','Lying','Sitting','Standing','Walking']\n",
    "plt.figure(figsize=(10,5))\n",
    "sns.barplot(classes, amp)"
   ]
  },
  {
   "cell_type": "markdown",
   "metadata": {
    "colab_type": "text",
    "id": "k4LhFaTeh-L5"
   },
   "source": [
    "Nota-se que as classes \"bending 1\" e \"bending 2\" possuem menos dados que as outras. Porém, a menor delas possui amplitude equivalente a cerca de 45% das de maior valor. Desse modo, há estatística suficiente para que ela seja corretamente prevista e não será necessário aplicar técnicas de balanceamento."
   ]
  },
  {
   "cell_type": "markdown",
   "metadata": {
    "colab_type": "text",
    "id": "IEi3RSyVJsqz"
   },
   "source": [
    "## Normalização dos dados\n",
    "\n",
    "Antes de iniciar o treinamento das redes, cada uma das colunas do dataframe foi estandartizada de modo que todos os parâmetros tenham o valor de média igual a zero e desvio padrão igual a um."
   ]
  },
  {
   "cell_type": "code",
   "execution_count": 0,
   "metadata": {
    "colab": {},
    "colab_type": "code",
    "id": "PknBrRsMJycn"
   },
   "outputs": [],
   "source": [
    "Y = np.array(df['label'])  \n",
    "X = df.drop(['label'], axis=1)\n",
    "scaler = StandardScaler()\n",
    "X = scaler.fit_transform(X)"
   ]
  },
  {
   "cell_type": "markdown",
   "metadata": {
    "colab_type": "text",
    "id": "4dlJZLhmhAay"
   },
   "source": [
    "## Separação em conjuntos de treino, validação e teste\n",
    "\n",
    "Para que cada uma das redes utilizadas sejam corretamente treinadas e validadas, o dataframe foi dividido de forma que o conjunto de treino possua 70% dos dados e os conjuntos de validação e teste tenham 15% cada um."
   ]
  },
  {
   "cell_type": "code",
   "execution_count": 0,
   "metadata": {
    "colab": {},
    "colab_type": "code",
    "id": "qF5ExxDkhAa0"
   },
   "outputs": [],
   "source": [
    "xTrain, xAux, yTrain, yAux = train_test_split(X, Y, train_size = 0.7)        #70% treino\n",
    "xEval, xTest, yEval, yTest = train_test_split(xAux, yAux, test_size = 0.5)   #15% validação e teste"
   ]
  },
  {
   "cell_type": "markdown",
   "metadata": {
    "colab_type": "text",
    "id": "STAqmqpShAa5"
   },
   "source": [
    "## Redes MLP\n",
    "\n",
    "Na escolha do perceptron multicamadas (MLP, do inglês Multi Layer Perceptron) foi definido o uso de três camadas ocultas. Para definir o número de neurônios a ser adotado em cada uma delas, o mesmo foi variado num intervalo de 1 a 151. Ao final, as curvas referentes aos resultados com os conjuntos de treino e validação foram obtidas e a partir delas foi definido a quantidade de neurônios a ser utilizado."
   ]
  },
  {
   "cell_type": "code",
   "execution_count": 0,
   "metadata": {
    "colab": {},
    "colab_type": "code",
    "id": "uyM2BTkYhAa7"
   },
   "outputs": [],
   "source": [
    "err_eval  = np.array([])\n",
    "err_train = np.array([])\n",
    "neurons = range(1,155,5)\n",
    "for i in neurons:\n",
    "    clf = MLPClassifier(hidden_layer_sizes=(i,i,i), max_iter=500)\n",
    "    clf.fit(xTrain, yTrain)\n",
    "    err_eval  = np.append(err_eval,  (1 - clf.score(xTest,yTest)))\n",
    "    err_train = np.append(err_train, (1 - clf.score(xTrain,yTrain)))\n",
    "    print(i)"
   ]
  },
  {
   "cell_type": "code",
   "execution_count": 0,
   "metadata": {
    "colab": {
     "base_uri": "https://localhost:8080/",
     "height": 551
    },
    "colab_type": "code",
    "executionInfo": {
     "elapsed": 9109993,
     "status": "ok",
     "timestamp": 1575053732872,
     "user": {
      "displayName": "Mariana Migliorini",
      "photoUrl": "",
      "userId": "08049581892130160167"
     },
     "user_tz": 180
    },
    "id": "z4y0UDcWIIMd",
    "outputId": "4fe1e9b2-003b-4737-932d-978b42e3afbf"
   },
   "outputs": [
    {
     "data": {
      "image/png": "[encoded data removed]",
      "text/plain": [
       "<Figure size 504x648 with 1 Axes>"
      ]
     },
     "metadata": {
      "tags": []
     },
     "output_type": "display_data"
    }
   ],
   "source": [
    "plt.figure(figsize=(7,9))\n",
    "plt.plot(list(range(1,155,5)),err_eval,'--sr')\n",
    "plt.plot(list(range(1,155,5)),err_train,'--sb')\n",
    "plt.legend(['Erro conjunto de Validação','Erro conjunto de treino'])\n",
    "plt.xlabel('Neurônios na camada escondida')\n",
    "plt.ylabel('Erro')\n",
    "plt.grid()"
   ]
  },
  {
   "cell_type": "code",
   "execution_count": 0,
   "metadata": {
    "colab": {
     "base_uri": "https://localhost:8080/",
     "height": 54
    },
    "colab_type": "code",
    "executionInfo": {
     "elapsed": 9107641,
     "status": "ok",
     "timestamp": 1575053732876,
     "user": {
      "displayName": "Mariana Migliorini",
      "photoUrl": "",
      "userId": "08049581892130160167"
     },
     "user_tz": 180
    },
    "id": "XLTGfWpxIRfH",
    "outputId": "d8168297-a835-4cfd-cee7-fbc3b3b1eec9"
   },
   "outputs": [
    {
     "name": "stdout",
     "output_type": "stream",
     "text": [
      "Erro de validação mínimo:  0.20849116161616166\n",
      "Número de neurônios:  51\n"
     ]
    }
   ],
   "source": [
    "print(\"Erro de validação mínimo: \", np.min(err_eval))\n",
    "print(\"Número de neurônios: \", neurons[np.argmin(err_eval)])"
   ]
  },
  {
   "cell_type": "code",
   "execution_count": 0,
   "metadata": {
    "colab": {
     "base_uri": "https://localhost:8080/",
     "height": 35
    },
    "colab_type": "code",
    "executionInfo": {
     "elapsed": 9219940,
     "status": "ok",
     "timestamp": 1575053845724,
     "user": {
      "displayName": "Mariana Migliorini",
      "photoUrl": "",
      "userId": "08049581892130160167"
     },
     "user_tz": 180
    },
    "id": "5EjrrKiSITTA",
    "outputId": "ec41ba5b-35b7-41d0-e8bd-4bf869da3ed4"
   },
   "outputs": [
    {
     "name": "stdout",
     "output_type": "stream",
     "text": [
      "Acurácia no conjunto de teste:  79.25 %\n"
     ]
    }
   ],
   "source": [
    "n_neurons = neurons[np.argmin(err_eval)]\n",
    "clf = MLPClassifier(hidden_layer_sizes=(n_neurons,n_neurons,n_neurons), max_iter=500)\n",
    "clf.fit(xTrain, yTrain)\n",
    "print('Acurácia no conjunto de teste: ', round(100*clf.score(xTest,yTest),2), '%')"
   ]
  },
  {
   "cell_type": "markdown",
   "metadata": {
    "colab_type": "text",
    "id": "1OY-lOOr0VVn"
   },
   "source": [
    "## SVM Não-Linear\n",
    "\n",
    "Para o SVM não linear, foi escolhido o kernel função de base radial (RBF, do inglês Radial Basis Function). Para esse dataset, adotou-se um classificador de margem suave utilizando o valor da constante C igual a 10. Os valores de gamma, responsável por definir até que ponto a influência de um único exemplo de treinamento alcança, foram variados de 0,01 a 1 e a partir do resultado foi definido o que resultou em maior acurácia."
   ]
  },
  {
   "cell_type": "code",
   "execution_count": 0,
   "metadata": {
    "colab": {},
    "colab_type": "code",
    "id": "QMBxHNYqwk4C"
   },
   "outputs": [],
   "source": [
    "C         = 10\n",
    "gamma     = np.linspace(0.01,1,20)\n",
    "err_eval  = np.array([])\n",
    "err_train = np.array([])\n",
    "for j in gamma:        \n",
    "  clf = SVC(C = C, kernel = 'rbf', gamma = j)\n",
    "  clf.fit(xTrain, yTrain)\n",
    "  err_eval   = np.append(err_eval,  (1 - clf.score(xEval,yEval)))\n",
    "  err_train  = np.append(err_train, (1 - clf.score(xTrain,yTrain)))\n",
    "  print(j)"
   ]
  },
  {
   "cell_type": "code",
   "execution_count": 0,
   "metadata": {
    "colab": {
     "base_uri": "https://localhost:8080/",
     "height": 551
    },
    "colab_type": "code",
    "executionInfo": {
     "elapsed": 1049,
     "status": "ok",
     "timestamp": 1575057872946,
     "user": {
      "displayName": "Mariana Migliorini",
      "photoUrl": "",
      "userId": "08049581892130160167"
     },
     "user_tz": 180
    },
    "id": "44pnfAKv0zTX",
    "outputId": "4f2c3581-6441-41cb-973c-deab67122960"
   },
   "outputs": [
    {
     "data": {
      "image/png": "[encoded data removed]",
      "text/plain": [
       "<Figure size 504x648 with 1 Axes>"
      ]
     },
     "metadata": {
      "tags": []
     },
     "output_type": "display_data"
    }
   ],
   "source": [
    "plt.figure(figsize=(7,9))\n",
    "plt.plot(list(np.linspace(0.01,1,20)),err_eval,'--sr')\n",
    "plt.plot(list(np.linspace(0.01,1,20)),err_train,'--sb')\n",
    "plt.legend(['Erro conjunto de Validação','Erro conjunto de treino'])\n",
    "plt.xlabel('Valor de gamma')\n",
    "plt.ylabel('Erro')\n",
    "plt.grid()"
   ]
  },
  {
   "cell_type": "code",
   "execution_count": 0,
   "metadata": {
    "colab": {
     "base_uri": "https://localhost:8080/",
     "height": 54
    },
    "colab_type": "code",
    "executionInfo": {
     "elapsed": 792,
     "status": "ok",
     "timestamp": 1575057899385,
     "user": {
      "displayName": "Mariana Migliorini",
      "photoUrl": "",
      "userId": "08049581892130160167"
     },
     "user_tz": 180
    },
    "id": "ovcB5y7s6CT_",
    "outputId": "0d6abada-1dbd-40e2-edd0-0cca2c2660ef"
   },
   "outputs": [
    {
     "name": "stdout",
     "output_type": "stream",
     "text": [
      "Erro de validação mínimo:  0.2392676767676768\n",
      "Valor de gamma:  0.5831578947368421\n"
     ]
    }
   ],
   "source": [
    "print(\"Erro de validação mínimo: \", np.min(err_eval))\n",
    "print(\"Valor de gamma: \", gamma[np.argmin(err_eval)])"
   ]
  },
  {
   "cell_type": "code",
   "execution_count": 0,
   "metadata": {
    "colab": {
     "base_uri": "https://localhost:8080/",
     "height": 35
    },
    "colab_type": "code",
    "executionInfo": {
     "elapsed": 21765,
     "status": "ok",
     "timestamp": 1575057932538,
     "user": {
      "displayName": "Mariana Migliorini",
      "photoUrl": "",
      "userId": "08049581892130160167"
     },
     "user_tz": 180
    },
    "id": "sWm2W0c_1Bfn",
    "outputId": "2304a8f0-573b-4c4f-8580-562dac976608"
   },
   "outputs": [
    {
     "name": "stdout",
     "output_type": "stream",
     "text": [
      "Acurácia no conjunto de teste:  77.0 %\n"
     ]
    }
   ],
   "source": [
    "n_gamma = gamma[np.argmin(err_eval)]\n",
    "clf = SVC(C = C, kernel = 'rbf', gamma = n_gamma)\n",
    "clf.fit(xTrain, yTrain)\n",
    "print('Acurácia no conjunto de teste: ', round(100*clf.score(xTest,yTest),2), '%')"
   ]
  },
  {
   "cell_type": "markdown",
   "metadata": {
    "colab_type": "text",
    "id": "RQGsh2InhAbY"
   },
   "source": [
    "## Redes RBF\n",
    "\n",
    "A rede RBF implementada a seguir possui com função de ativação uma gaussiana e para se obter os melhores pesos para o vetor $w$ utilizou-se o algoritmo da pseudo-inversa. O treinamento da mesma foi feito variando o número de neurônios utilizados em um intervalo de 2 a 152. Ao analisar as curvas obtidas com os conjuntos de treino e validação, foi escolhido o número de neurônios que entrega um melhor resultado."
   ]
  },
  {
   "cell_type": "code",
   "execution_count": 0,
   "metadata": {
    "colab": {},
    "colab_type": "code",
    "id": "mA30CvmPhAbZ"
   },
   "outputs": [],
   "source": [
    "from sklearn.cluster import KMeans\n",
    "from scipy.spatial import distance\n",
    "from sklearn.preprocessing import OneHotEncoder\n",
    "from sklearn.metrics import accuracy_score\n",
    "\n",
    "#Determinação da rede:\n",
    "def RBFN(xTrain, yTrain, neurons):\n",
    "    #Determinar centróide dos clusters:\n",
    "    K_cent = neurons\n",
    "    km     = KMeans(n_clusters= K_cent, max_iter= 200)\n",
    "    km.fit(xTrain)\n",
    "    cent   = km.cluster_centers_\n",
    "    #Cálculo do sigma:\n",
    "    dist_vector = distance.pdist(cent,'euclidean')\n",
    "    dist_matrix = distance.squareform(dist_vector)\n",
    "    sigma       = dist_matrix.max()/(np.sqrt(2*neurons))\n",
    "    #Codificando a matriz de labels:\n",
    "    encoder  = OneHotEncoder()\n",
    "    yTrain   = encoder.fit_transform(yTrain.reshape(-1,1)).toarray()\n",
    "    #Cálculo da gaussiana em cada dado de treinamento:\n",
    "    shape  = xTrain.shape\n",
    "    row    = shape[0]\n",
    "    column = neurons\n",
    "    phi    = np.zeros((row,column), dtype= float)\n",
    "    for i in range(row):\n",
    "        for j in range(column):\n",
    "            #dist     = np.linalg.norm(xTrain.values[i]-cent[j])\n",
    "            dist     = np.linalg.norm(xTrain[i]-cent[j])\n",
    "            phi[i,j] = np.exp(-(dist**2)/(2*(sigma**2)))\n",
    "    #Cálculo da pseudo-inversa:\n",
    "    w = np.linalg.inv(phi.T @ phi) @ (phi.T @ yTrain)\n",
    "    return w, cent, sigma\n",
    "\n",
    "\n",
    "#Eficiência da rede utilizando os valores de w:\n",
    "def RBFN_score(xTest, yTest, w, cent, sigma):\n",
    "    row      = xTest.shape[0]\n",
    "    column   = len(w)\n",
    "    phiTest  = np.zeros((row,column), dtype= float)\n",
    "    for i in range(row):\n",
    "        for j in range(column):\n",
    "            #distTest      = np.linalg.norm(xTest.values[i]-cent[j])\n",
    "            distTest      = np.linalg.norm(xTest[i]-cent[j])\n",
    "            phiTest[i,j]  = np.exp(-(distTest**2)/(2*(sigma**2)))\n",
    "    predTest   = phiTest @ w\n",
    "    prediction = np.zeros([predTest.shape[0],predTest.shape[1]])\n",
    "    for i in range(len(predTest)):\n",
    "        ind = np.where(predTest[i] == max(predTest[i]))\n",
    "        prediction[i,ind] = 1\n",
    "    encoder    = OneHotEncoder()\n",
    "    yTest   = encoder.fit_transform(yTest.reshape(-1,1)).toarray()\n",
    "    #prediction = encoder.inverse_transform(prediction)\n",
    "    score = accuracy_score(prediction,yTest)\n",
    "    return score"
   ]
  },
  {
   "cell_type": "code",
   "execution_count": 0,
   "metadata": {
    "colab": {},
    "colab_type": "code",
    "id": "rrnJcz1Nxont"
   },
   "outputs": [],
   "source": [
    "err_eval  = np.array([])\n",
    "err_train = np.array([])\n",
    "neurons = range(2,155,5)\n",
    "for i in neurons:\n",
    "    rbf, Kcent, sigma = RBFN(xTrain, yTrain, i)\n",
    "    err_eval   = np.append(err_eval,  (1 - RBFN_score(xEval,yEval,rbf,Kcent,sigma)))\n",
    "    err_train  = np.append(err_train, (1 - RBFN_score(xTrain,yTrain,rbf,Kcent,sigma)))\n",
    "    print(i)"
   ]
  },
  {
   "cell_type": "code",
   "execution_count": 0,
   "metadata": {
    "colab": {
     "base_uri": "https://localhost:8080/",
     "height": 551
    },
    "colab_type": "code",
    "executionInfo": {
     "elapsed": 1612,
     "status": "ok",
     "timestamp": 1575062805033,
     "user": {
      "displayName": "Mariana Migliorini",
      "photoUrl": "",
      "userId": "08049581892130160167"
     },
     "user_tz": 180
    },
    "id": "Pw_vpZD07fbE",
    "outputId": "23114993-2e94-466d-b3b4-070bf2be7a78"
   },
   "outputs": [
    {
     "data": {
      "image/png": "[encoded data removed]",
      "text/plain": [
       "<Figure size 504x648 with 1 Axes>"
      ]
     },
     "metadata": {
      "tags": []
     },
     "output_type": "display_data"
    }
   ],
   "source": [
    "plt.figure(figsize=(7,9))\n",
    "plt.plot(list(range(2,155,5)),err_eval,'--sr')\n",
    "plt.plot(list(range(2,155,5)),err_train,'--sb')\n",
    "plt.legend(['Erro conjunto de Validação','Erro conjunto de treino'])\n",
    "plt.xlabel('Neurônios na camada escondida')\n",
    "plt.ylabel('Erro')\n",
    "plt.grid()"
   ]
  },
  {
   "cell_type": "code",
   "execution_count": 0,
   "metadata": {
    "colab": {
     "base_uri": "https://localhost:8080/",
     "height": 54
    },
    "colab_type": "code",
    "executionInfo": {
     "elapsed": 710,
     "status": "ok",
     "timestamp": 1575062828617,
     "user": {
      "displayName": "Mariana Migliorini",
      "photoUrl": "",
      "userId": "08049581892130160167"
     },
     "user_tz": 180
    },
    "id": "xS0l4V1zM03k",
    "outputId": "cf96a194-edba-40b8-e025-423f9d31cea3"
   },
   "outputs": [
    {
     "name": "stdout",
     "output_type": "stream",
     "text": [
      "Erro de validação mínimo:  0.2981376262626263\n",
      "Número de neurônios:  142\n"
     ]
    }
   ],
   "source": [
    "print(\"Erro de validação mínimo: \", np.min(err_eval))\n",
    "print(\"Número de neurônios: \", neurons[np.argmin(err_eval)])"
   ]
  },
  {
   "cell_type": "code",
   "execution_count": 0,
   "metadata": {
    "colab": {
     "base_uri": "https://localhost:8080/",
     "height": 35
    },
    "colab_type": "code",
    "executionInfo": {
     "elapsed": 741,
     "status": "ok",
     "timestamp": 1575062947524,
     "user": {
      "displayName": "Mariana Migliorini",
      "photoUrl": "",
      "userId": "08049581892130160167"
     },
     "user_tz": 180
    },
    "id": "TI2sUZWQETyO",
    "outputId": "9fa61149-6bef-4f23-853f-c11134c54e2a"
   },
   "outputs": [
    {
     "name": "stdout",
     "output_type": "stream",
     "text": [
      "Acurácia no conjunto de teste:  71.76 %\n"
     ]
    }
   ],
   "source": [
    "n_neurons = neurons[np.argmin(err_eval)]\n",
    "rbf, Kcent, sigma = RBFN(xTrain, yTrain, n_neurons)\n",
    "score = RBFN_score(xTest,yTest,rbf,Kcent,sigma)\n",
    "print('Acurácia no conjunto de teste: ', round(100*score,2), '%')"
   ]
  },
  {
   "cell_type": "markdown",
   "metadata": {
    "colab_type": "text",
    "id": "rC38M-USzV9y"
   },
   "source": [
    "## Conclusão\n",
    "\n",
    "Os três classificadores utilizados conseguiram boa acurácia com o conjunto de dados testado. O MLP e o SVM não linear alcançaram resultados semelhantes com 79,25% e 77,0%, respectivamente. Já a rede RBF obteve um resultado um pouco inferior aos outros dois, tendo acurácia de 71,76%. Caso uma taxa de erro seja admitida na aplicação, quaisquer classificadores aqui testados podem ser empregados sem grande perda de eficiência."
   ]
  }
 ],
 "metadata": {
  "accelerator": "GPU",
  "colab": {
   "collapsed_sections": [],
   "name": "Trab3_RP_MarianaLima.ipynb",
   "provenance": [],
   "toc_visible": true
  },
  "kernelspec": {
   "display_name": "Python 3",
   "language": "python",
   "name": "python3"
  },
  "language_info": {
   "codemirror_mode": {
    "name": "ipython",
    "version": 3
   },
   "file_extension": ".py",
   "mimetype": "text/x-python",
   "name": "python",
   "nbconvert_exporter": "python",
   "pygments_lexer": "ipython3",
   "version": "3.7.4"
  }
 },
 "nbformat": 4,
 "nbformat_minor": 1
}
